{
  "cells": [
    {
      "cell_type": "markdown",
      "metadata": {
        "id": "view-in-github",
        "colab_type": "text"
      },
      "source": [
        "<a href=\"https://colab.research.google.com/github/MechSoft371/Project4/blob/main/dailyclass.ipynb\" target=\"_parent\"><img src=\"https://colab.research.google.com/assets/colab-badge.svg\" alt=\"Open In Colab\"/></a>"
      ]
    },
    {
      "cell_type": "code",
      "execution_count": null,
      "id": "8e2ae93f-8ea7-43a0-a566-64aa627d999e",
      "metadata": {
        "id": "8e2ae93f-8ea7-43a0-a566-64aa627d999e"
      },
      "outputs": [],
      "source": [
        "def day_month(i,n):\n",
        "    if i in range(1,13):\n",
        "        if i==2:\n",
        "\n",
        "\n",
        ""
      ]
    },
    {
      "cell_type": "code",
      "execution_count": null,
      "id": "538ee15d-be9e-4334-bb5e-40277221ef7a",
      "metadata": {
        "id": "538ee15d-be9e-4334-bb5e-40277221ef7a"
      },
      "outputs": [],
      "source": [
        "def factors(n,m):\n",
        "    x=list()\n",
        "    y=list()\n",
        "    for i in range(1,n):\n",
        "        if n%i==0:\n",
        "            x.append(i)\n",
        "    for j in range(1,m):\n",
        "        if m%j==0:\n",
        "            x.append(i)\n",
        "    for z in x and a in y:\n",
        "\n",
        "    return x"
      ]
    },
    {
      "cell_type": "code",
      "execution_count": null,
      "id": "a90ac5c6-6362-408d-9208-c6bfc04cd2d2",
      "metadata": {
        "id": "a90ac5c6-6362-408d-9208-c6bfc04cd2d2"
      },
      "outputs": [],
      "source": [
        "def gcd(m,n):\n",
        "    g=min(m,n)\n",
        "    while m%g!=0 or n%g!=0:\n",
        "        g=g-1\n",
        "    return g"
      ]
    },
    {
      "cell_type": "code",
      "execution_count": null,
      "id": "e1446eaf-bb9a-420c-89e5-186a4505bae4",
      "metadata": {
        "id": "e1446eaf-bb9a-420c-89e5-186a4505bae4",
        "outputId": "d873a92b-3e66-40fd-ed38-4636c8717fe4"
      },
      "outputs": [
        {
          "name": "stdin",
          "output_type": "stream",
          "text": [
            "Enter num 6\n",
            "Enter num 63\n"
          ]
        },
        {
          "name": "stdout",
          "output_type": "stream",
          "text": [
            "2.0/21.0\n"
          ]
        }
      ],
      "source": [
        "num=int(input(\"Enter num\"))\n",
        "den=int(input(\"Enter num\"))\n",
        "x=gcd(num,den)\n",
        "while x!=1:\n",
        "    num=num/x\n",
        "    den=den/x\n",
        "    x=gcd(num,den)\n",
        "print(f\"{num}/{den}\")"
      ]
    },
    {
      "cell_type": "code",
      "execution_count": null,
      "id": "e17728e0-6008-4738-8508-e59d31213b9a",
      "metadata": {
        "id": "e17728e0-6008-4738-8508-e59d31213b9a",
        "outputId": "94dec890-49b8-44d6-8c9c-cc4c7d4ce1fe"
      },
      "outputs": [
        {
          "data": {
            "text/plain": [
              "3"
            ]
          },
          "execution_count": 11,
          "metadata": {},
          "output_type": "execute_result"
        }
      ],
      "source": [
        "gcd(6,63)"
      ]
    },
    {
      "cell_type": "code",
      "execution_count": null,
      "id": "4b027595-029d-40c8-9447-ee470ec64da5",
      "metadata": {
        "id": "4b027595-029d-40c8-9447-ee470ec64da5",
        "outputId": "af42ea51-c05f-48d5-cd9b-39aeba0bb7ab"
      },
      "outputs": [
        {
          "data": {
            "text/plain": [
              "[1, 2]"
            ]
          },
          "execution_count": 7,
          "metadata": {},
          "output_type": "execute_result"
        }
      ],
      "source": [
        "factors(20)"
      ]
    },
    {
      "cell_type": "code",
      "execution_count": null,
      "id": "0cd6d7ec-4dc0-40ec-8625-7d5c29fc7abb",
      "metadata": {
        "id": "0cd6d7ec-4dc0-40ec-8625-7d5c29fc7abb"
      },
      "outputs": [],
      "source": [
        "def mag(d,m,y):\n",
        "    y=str(y)\n",
        "    y=y[2:4]\n",
        "    z=d*m\n",
        "    if z==int(y):\n",
        "        return \"its a magic date\"\n",
        "    else:\n",
        "        return \"\""
      ]
    },
    {
      "cell_type": "code",
      "execution_count": null,
      "id": "ed191157-a3e4-4ca9-8d67-356ed94be71e",
      "metadata": {
        "id": "ed191157-a3e4-4ca9-8d67-356ed94be71e",
        "outputId": "3124f551-25d3-4e54-de6e-4980ac3e2c0a"
      },
      "outputs": [
        {
          "data": {
            "text/plain": [
              "''"
            ]
          },
          "execution_count": 33,
          "metadata": {},
          "output_type": "execute_result"
        }
      ],
      "source": [
        "mag(6,11,1960)"
      ]
    },
    {
      "cell_type": "markdown",
      "id": "33cc6196-5565-4a45-8a4e-03d5e1cd1387",
      "metadata": {
        "id": "33cc6196-5565-4a45-8a4e-03d5e1cd1387"
      },
      "source": [
        "creating a class and adding the objects to the class"
      ]
    },
    {
      "cell_type": "markdown",
      "id": "530bb716-e2cb-4fe7-bf2e-67e2170c6492",
      "metadata": {
        "id": "530bb716-e2cb-4fe7-bf2e-67e2170c6492"
      },
      "source": [
        "create a class named person\n",
        "add name, age, height,nationality into the class\n"
      ]
    },
    {
      "cell_type": "code",
      "execution_count": null,
      "id": "b71a355a-b2ae-498e-9cd2-34bfcd3795e7",
      "metadata": {
        "id": "b71a355a-b2ae-498e-9cd2-34bfcd3795e7"
      },
      "outputs": [],
      "source": [
        "class person():\n",
        "    def __init__(self,name,age,height,nation):\n",
        "        self.name=name\n",
        "        self.height=height\n",
        "        self.age=age\n",
        "        self.nation=nation\n",
        "    def pname(self):\n",
        "        print(self.name)\n",
        "    def p_age(self):\n",
        "        print(self.age)\n",
        "    def pheight(self):\n",
        "        print(self.height)\n",
        "    def pnation(self):\n",
        "        print(self.nation)\n",
        ""
      ]
    },
    {
      "cell_type": "code",
      "execution_count": null,
      "id": "abbde45f-5614-4fb5-b5c7-feacbc5fa406",
      "metadata": {
        "id": "abbde45f-5614-4fb5-b5c7-feacbc5fa406",
        "outputId": "0753e4a0-8286-41ec-c284-7442f51174e5"
      },
      "outputs": [
        {
          "name": "stdout",
          "output_type": "stream",
          "text": [
            "17\n",
            "hema\n"
          ]
        },
        {
          "ename": "TypeError",
          "evalue": "person.pnation() missing 1 required positional argument: 'nation'",
          "output_type": "error",
          "traceback": [
            "\u001b[1;31m---------------------------------------------------------------------------\u001b[0m",
            "\u001b[1;31mTypeError\u001b[0m                                 Traceback (most recent call last)",
            "Cell \u001b[1;32mIn[31], line 6\u001b[0m\n\u001b[0;32m      3\u001b[0m x\u001b[38;5;241m.\u001b[39mp_age()\n\u001b[0;32m      5\u001b[0m y\u001b[38;5;241m.\u001b[39mpname()\n\u001b[1;32m----> 6\u001b[0m y\u001b[38;5;241m.\u001b[39mpnation()\n",
            "\u001b[1;31mTypeError\u001b[0m: person.pnation() missing 1 required positional argument: 'nation'"
          ]
        }
      ],
      "source": [
        "x=person(\"ravi\",17,157,\"indian\")\n",
        "y=person(\"hema\",19,157,\"USA\")\n",
        "x.p_age()\n",
        "\n",
        "y.pname()\n",
        "y.pnation()"
      ]
    },
    {
      "cell_type": "code",
      "execution_count": null,
      "id": "90bd080e-1268-4667-90c1-0297c22d3bc9",
      "metadata": {
        "id": "90bd080e-1268-4667-90c1-0297c22d3bc9"
      },
      "outputs": [],
      "source": [
        "class car():\n",
        "    def __init__(self,brand,model,colour,fuel,mileage):\n",
        "        self.brand=brand\n",
        "        self.model=model\n",
        "        self.colour=colour\n",
        "        self.fuel=fuel\n",
        "        self.mileage=mileage\n",
        "    def c_brand(self):\n",
        "        print(self.brand)\n",
        "    def c_model(self):\n",
        "        print(self.model)\n",
        "    def c_colour(self):\n",
        "        print(self.colour)\n",
        "    def c_fuel(self):\n",
        "        print(self.fuel)\n",
        "    def c_mileage(self):\n",
        "        print(self.mileage)\n",
        "    def c_details(self):\n",
        "        print(self.brand)\n",
        "        print(self.model)\n",
        "        print(self.colour)\n",
        "        print(self.fuel)\n",
        "        print(self.mileage)"
      ]
    },
    {
      "cell_type": "code",
      "execution_count": null,
      "id": "e1578ecc-9d5e-4331-95dc-3cf247039513",
      "metadata": {
        "id": "e1578ecc-9d5e-4331-95dc-3cf247039513",
        "outputId": "3259a6a3-a4b8-4e3f-cce3-9b46230ee1fb"
      },
      "outputs": [
        {
          "name": "stdout",
          "output_type": "stream",
          "text": [
            "benz\n"
          ]
        }
      ],
      "source": [
        "ben=car(\"benz\",\"z-class\",\"black\",100,20)\n",
        "ben.c_brand()"
      ]
    },
    {
      "cell_type": "code",
      "execution_count": null,
      "id": "cce94dbd-b07d-469e-aacc-983da3da3a3b",
      "metadata": {
        "id": "cce94dbd-b07d-469e-aacc-983da3da3a3b"
      },
      "outputs": [],
      "source": [
        "class books():\n",
        "    def __init__(self,title,author,year,edition):\n",
        "        self.title=title\n",
        "        self.author=author\n",
        "        self.year=year\n",
        "        self.edition=edition\n",
        "    def b_title(self):\n",
        "        print(self.title)\n",
        "    def b_author(self):\n",
        "        print(self.author)\n",
        "    def b_year(self):\n",
        "        print(self.year)\n",
        "    def b_edition(self):\n",
        "        print(self.edition)\n",
        "    def b_details(self):\n",
        "        print(self.title)\n",
        "        print(self.author)\n",
        "        print(self.year)\n",
        "        print(self.edition)"
      ]
    },
    {
      "cell_type": "code",
      "execution_count": null,
      "id": "fd341198-b0a1-4d7b-bd1a-0cd0c93754b9",
      "metadata": {
        "id": "fd341198-b0a1-4d7b-bd1a-0cd0c93754b9",
        "outputId": "24e9e015-6b73-4286-dc3e-598025692bd2"
      },
      "outputs": [
        {
          "name": "stdout",
          "output_type": "stream",
          "text": [
            "harry\n",
            "harry\n",
            "james\n",
            "2000\n",
            "5\n"
          ]
        }
      ],
      "source": [
        "novel=books(\"harry\",\"james\",2000,5)\n",
        "novel.b_title()\n",
        "novel.b_details()"
      ]
    },
    {
      "cell_type": "markdown",
      "id": "e47fe454-3f0c-4348-a695-15286f2ae56f",
      "metadata": {
        "id": "e47fe454-3f0c-4348-a695-15286f2ae56f"
      },
      "source": [
        "create a class named calculator\n",
        "addition\n",
        "aubtraction\n",
        "multiplication\n",
        "division"
      ]
    },
    {
      "cell_type": "code",
      "execution_count": null,
      "id": "6683ceb7-9f1c-4db2-a0de-99cff078ad9c",
      "metadata": {
        "id": "6683ceb7-9f1c-4db2-a0de-99cff078ad9c"
      },
      "outputs": [],
      "source": [
        "class calculator():\n",
        "    def __init__(self,num1,num2):\n",
        "        self.num1=num1\n",
        "        self.num2=num2\n",
        "    def addition(self):\n",
        "        print(self.num1+self.num2)\n",
        "    def subtraction(self):\n",
        "        print(self.num1-self.num2)\n",
        "    def multiplication(self):\n",
        "        print(self.num1*self.num2)\n",
        "    def division(self):\n",
        "        print(self.num1/self.num2)"
      ]
    },
    {
      "cell_type": "code",
      "execution_count": null,
      "id": "7e30d99f-5070-457a-b4ba-c4da1573d0f3",
      "metadata": {
        "id": "7e30d99f-5070-457a-b4ba-c4da1573d0f3",
        "outputId": "e2a1737d-ba03-4565-f539-dfa1db174b49"
      },
      "outputs": [
        {
          "name": "stdout",
          "output_type": "stream",
          "text": [
            "5\n",
            "1\n",
            "6\n",
            "1.5\n"
          ]
        }
      ],
      "source": [
        "c=calculator(3,2)\n",
        "c.addition()\n",
        "c.subtraction()\n",
        "c.multiplication()\n",
        "c.division()"
      ]
    },
    {
      "cell_type": "markdown",
      "id": "7017da95-0ea0-47a7-b925-6f8dbeee5cb1",
      "metadata": {
        "id": "7017da95-0ea0-47a7-b925-6f8dbeee5cb1"
      },
      "source": [
        "create a class named complex_calculators\n",
        "add one interge as an object\n",
        "create a following methods\n",
        "to find the square root\n",
        "to find factorials\n",
        "to find absolute value\n",
        "to find square of the value\n"
      ]
    },
    {
      "cell_type": "code",
      "execution_count": null,
      "id": "a79d7281-106a-4714-b21c-3f3a9a7a53ab",
      "metadata": {
        "id": "a79d7281-106a-4714-b21c-3f3a9a7a53ab"
      },
      "outputs": [],
      "source": [
        "import math\n",
        "class complex_calculators():\n",
        "    def __init__(self,num):\n",
        "        self.num=num\n",
        "    def sqt(self):\n",
        "        print(math.sqrt(self.num))\n",
        "    def factorial(self):\n",
        "        print(math.factorial(self.num))\n",
        "    def absolute(self):\n",
        "        print(math.fabs(self.num))\n",
        "    def square(self):\n",
        "        print(self.num**2)"
      ]
    },
    {
      "cell_type": "code",
      "execution_count": null,
      "id": "fef1da14-c3df-473a-abf7-f0c50c95022b",
      "metadata": {
        "id": "fef1da14-c3df-473a-abf7-f0c50c95022b",
        "outputId": "5206c7ba-d07d-4800-a00e-f7af6add350a"
      },
      "outputs": [
        {
          "name": "stdout",
          "output_type": "stream",
          "text": [
            "2.23606797749979\n",
            "120\n",
            "5.0\n",
            "25\n"
          ]
        }
      ],
      "source": [
        "x=complex_calculators(5)\n",
        "x.sqt()\n",
        "x.factorial()\n",
        "x.absolute()\n",
        "x.square()"
      ]
    },
    {
      "cell_type": "markdown",
      "id": "3fb99fac-0f70-418e-b4e2-7df48b3942fa",
      "metadata": {
        "id": "3fb99fac-0f70-418e-b4e2-7df48b3942fa"
      },
      "source": [
        "create a class named poin\n",
        "calculate distance b/w two points"
      ]
    },
    {
      "cell_type": "code",
      "execution_count": null,
      "id": "db2d96cb-4cd6-434a-b821-f339b2739acb",
      "metadata": {
        "id": "db2d96cb-4cd6-434a-b821-f339b2739acb",
        "outputId": "d03fd348-ac6b-40d3-e00b-4c59489266d6"
      },
      "outputs": [
        {
          "name": "stdin",
          "output_type": "stream",
          "text": [
            "Enter the x1: 4\n",
            "Enter the x2: 5\n",
            "Enter the y1: 6\n",
            "Enter the y2: 7\n"
          ]
        },
        {
          "name": "stdout",
          "output_type": "stream",
          "text": [
            "1.4142135623730951\n"
          ]
        }
      ],
      "source": [
        "class point():\n",
        "    import math\n",
        "    x1=int(input(\"Enter the x1:\"))\n",
        "    x2=int(input(\"Enter the x2:\"))\n",
        "    y1=int(input(\"Enter the y1:\"))\n",
        "    y2=int(input(\"Enter the y2:\"))\n",
        "    d=math.sqrt((x1-x2)**2+(y1-y2)**2)\n",
        "    print(d)"
      ]
    },
    {
      "cell_type": "code",
      "execution_count": null,
      "id": "5a048318-0a8e-4be9-ba41-7c5396faf92b",
      "metadata": {
        "id": "5a048318-0a8e-4be9-ba41-7c5396faf92b"
      },
      "outputs": [],
      "source": [
        "class point1():\n",
        "    def __init__(self,x1,y1,x2,y2):\n",
        "        self.x1=x1\n",
        "        self.y1=y1\n",
        "        self.x2=x2\n",
        "        self.y2=y2\n",
        "    def dis(self):\n",
        "        import math\n",
        "        d=math.sqrt((self.x1-self.x2)**2+(self.y1-self.y2)**2)\n",
        "        return d\n",
        ""
      ]
    },
    {
      "cell_type": "code",
      "execution_count": null,
      "id": "bb9835b6-d1be-42f2-b751-1ec50ab186af",
      "metadata": {
        "id": "bb9835b6-d1be-42f2-b751-1ec50ab186af",
        "outputId": "f6717813-8f56-48bc-ea42-771419b46db3"
      },
      "outputs": [
        {
          "data": {
            "text/plain": [
              "2.8284271247461903"
            ]
          },
          "execution_count": 15,
          "metadata": {},
          "output_type": "execute_result"
        }
      ],
      "source": [
        "distance=point1(4,5,6,7)\n",
        "distance.dis()"
      ]
    },
    {
      "cell_type": "code",
      "execution_count": null,
      "id": "4eb20c25-4a72-4fd3-a8fe-33e92201bf14",
      "metadata": {
        "id": "4eb20c25-4a72-4fd3-a8fe-33e92201bf14"
      },
      "outputs": [],
      "source": [
        "import math\n",
        "class point2():\n",
        "    def __init__(self,x,y):\n",
        "        self.x=x\n",
        "        self.y=y\n",
        "    def distance(self,point2):\n",
        "        d=math.sqrt((self.x-point2.x)**2+(self.y-point2.y)**2)\n",
        "        print(d)\n",
        "    def median(self,point2):\n",
        "        m=((self.x+point2.x)/2,(self.y+point2.y)/2)\n",
        "        print(m)\n",
        "    def medians(self,point2,point):\n",
        "        med_x=(self.x+point2.x+point.x)/3\n",
        "        med_y=(self.y+point2.y+point.y)/3\n",
        "        print(med_x,med_y)\n",
        ""
      ]
    },
    {
      "cell_type": "code",
      "execution_count": null,
      "id": "fcdfba16-241e-49e5-b099-cc1cdbc3cf76",
      "metadata": {
        "id": "fcdfba16-241e-49e5-b099-cc1cdbc3cf76",
        "outputId": "9a3e2ae1-eea6-4000-a192-60f5fa56a70c"
      },
      "outputs": [
        {
          "name": "stdout",
          "output_type": "stream",
          "text": [
            "2.8284271247461903\n",
            "(2.0, 3.0)\n",
            "3.0 4.0\n"
          ]
        }
      ],
      "source": [
        "p1=point2(1,2)\n",
        "p2=point2(3,4)\n",
        "p3=point2(5,6)\n",
        "\n",
        "p1.distance(p2)\n",
        "p1.median(p2)\n",
        "p1.medians(p2,p3)\n"
      ]
    },
    {
      "cell_type": "code",
      "execution_count": null,
      "id": "8a4c6def-4758-4318-8f6f-8058eadfeb8e",
      "metadata": {
        "id": "8a4c6def-4758-4318-8f6f-8058eadfeb8e"
      },
      "outputs": [],
      "source": [
        "import math\n",
        "class circle():\n",
        "    def __init__(self,r):\n",
        "        self.r=r\n",
        "    def area(self):\n",
        "        area_circle=math.pi*(self.r**2)\n",
        "        print(area_circle)\n",
        "    def perimeter(self):\n",
        "        peri=2*(math.pi)*self.r\n",
        "        print(peri)"
      ]
    },
    {
      "cell_type": "code",
      "execution_count": null,
      "id": "5bc06cc1-f0c8-4809-b763-8d1a5afae7a1",
      "metadata": {
        "id": "5bc06cc1-f0c8-4809-b763-8d1a5afae7a1",
        "outputId": "b1025014-cbd9-4f76-95e6-97107bb07b66"
      },
      "outputs": [
        {
          "name": "stdout",
          "output_type": "stream",
          "text": [
            "78.53981633974483\n",
            "31.41592653589793\n"
          ]
        }
      ],
      "source": [
        "c1=circle(5)\n",
        "c1.area()\n",
        "c1.perimeter()"
      ]
    },
    {
      "cell_type": "code",
      "execution_count": null,
      "id": "448d9596-6c11-4815-aacb-2f09017f77e4",
      "metadata": {
        "id": "448d9596-6c11-4815-aacb-2f09017f77e4"
      },
      "outputs": [],
      "source": [
        "import math\n",
        "class cylinder():\n",
        "    def __init__(self,r,h):\n",
        "        self.r=r\n",
        "        self.h=h\n",
        "    def volume(self):\n",
        "        v=math.pi*(self.r**2)*self.h\n",
        "        print(\"volume of the cylinder:\",v)\n",
        "    def surface(self):\n",
        "        s=2*(math.pi)*self.r*self.h\n",
        "        print(\"surface area of the cylinder:\",s)"
      ]
    },
    {
      "cell_type": "code",
      "execution_count": null,
      "id": "8b283625-e6e8-40c6-969e-7a4c8016418f",
      "metadata": {
        "id": "8b283625-e6e8-40c6-969e-7a4c8016418f",
        "outputId": "94058b0f-52c3-4add-e879-4887d6acd3aa"
      },
      "outputs": [
        {
          "name": "stdout",
          "output_type": "stream",
          "text": [
            "volume of the cylinder: 471.23889803846896\n",
            "surface area of the cylinder: 188.49555921538757\n"
          ]
        }
      ],
      "source": [
        "cy=cylinder(5,6)\n",
        "cy.volume()\n",
        "cy.surface()"
      ]
    },
    {
      "cell_type": "code",
      "execution_count": null,
      "id": "f6c837b2-1279-487c-9c53-e0b12f6b4ea0",
      "metadata": {
        "id": "f6c837b2-1279-487c-9c53-e0b12f6b4ea0"
      },
      "outputs": [],
      "source": [
        "class bb():\n",
        "    def __init__(self, title,edition,author,sub):\n",
        "        self.title=title\n",
        "        self.edition=edition\n",
        "        self.author=author\n",
        "        self.sub=sub\n",
        "    def b_title(self,bb1):\n",
        "        print(self.title,bb1.title)\n",
        "    def b_author(self,bb1,bb2):\n",
        "        print(self.author,bb1.author,bb2.author)"
      ]
    },
    {
      "cell_type": "code",
      "execution_count": null,
      "id": "9bda7a92-1d89-438c-b988-21aa1372d4b2",
      "metadata": {
        "id": "9bda7a92-1d89-438c-b988-21aa1372d4b2",
        "outputId": "3e170714-a3a6-4e54-f9cc-d5bcc9da3aec"
      },
      "outputs": [
        {
          "name": "stdout",
          "output_type": "stream",
          "text": [
            "matrix matrix-reload\n",
            "james james & kane willison\n"
          ]
        }
      ],
      "source": [
        "b1=bb(\"matrix\",2,\"james\",\"sci-fi\")\n",
        "b2=bb(\"matrix-reload\",3,\"james & kane\",\"sci-fi\")\n",
        "b3=bb(\"taxi2\",3,\"willison\",\"crime\")\n",
        "b1.b_title(b2)\n",
        "b1.b_author(b2,b3)"
      ]
    },
    {
      "cell_type": "code",
      "execution_count": null,
      "id": "c941d122-b44a-42f6-a82e-80bb2e0340ac",
      "metadata": {
        "id": "c941d122-b44a-42f6-a82e-80bb2e0340ac",
        "outputId": "e1433b9b-eee0-4747-8d3b-0d425bfe851b"
      },
      "outputs": [
        {
          "name": "stdin",
          "output_type": "stream",
          "text": [
            "Enter the number: 3\n",
            "Enter the number: 4\n",
            "Enter the number: 5\n",
            "Enter the number: 2\n",
            "Enter the number: 23\n",
            "Enter the number: 0\n",
            "Enter the number: -1\n",
            "Enter the number: -2\n",
            "Enter the number: -34\n",
            "Enter the number: 3\n",
            "Enter the number: 6\n",
            "Enter the number: 7\n",
            "Enter the number: 8\n",
            "Enter the number: 9\n",
            "Enter the number: 23\n",
            "Enter the number: 546\n",
            "Enter the number: 445\n",
            "Enter the number:  \n"
          ]
        },
        {
          "name": "stdout",
          "output_type": "stream",
          "text": [
            "[3, 4, 5, 2, 23, 0, -1, -2, -34, 3, 6, 7, 8, 9, 23, 546, 445]\n",
            "after the sort: [-34, -2, -1, 0, 2, 3, 3, 4, 5, 6, 7, 8, 9, 23, 23, 445, 546]\n",
            "after reverse sort [546, 445, 23, 23, 9, 8, 7, 6, 5, 4, 3, 3, 2, 0, -1]\n",
            "[23, 23, 9, 8, 7, 6, 5, 4, 3, 3, 2, 0, -1]\n"
          ]
        }
      ],
      "source": [
        "y=list()\n",
        "n=int(input(\"Enter the number:\"))\n",
        "while n!=\" \":\n",
        "    y.append(int(n))\n",
        "    n=input(\"Enter the number:\")\n",
        "print(y)\n",
        "y.sort()\n",
        "print(\"after the sort:\",y)\n",
        "y.pop(0)\n",
        "y.pop(0)\n",
        "y=sorted(y,reverse=True)\n",
        "print(\"after reverse sort\",y)\n",
        "y.pop(0)\n",
        "y.pop(0)\n",
        "print(y)\n",
        ""
      ]
    },
    {
      "cell_type": "code",
      "execution_count": null,
      "id": "9a6a814f-9cd6-4990-b20e-f3b44eae5fa5",
      "metadata": {
        "id": "9a6a814f-9cd6-4990-b20e-f3b44eae5fa5",
        "outputId": "7c62d6cf-c583-46c9-e057-51abd2570cbf"
      },
      "outputs": [
        {
          "name": "stdout",
          "output_type": "stream",
          "text": [
            "[0, 1, 2, 3, 4, 5, 6, 7, 8, 9, 10]\n",
            "[8, 7, 6, 5, 4, 3, 2]\n"
          ]
        }
      ],
      "source": [
        "def remove(s):\n",
        "  for i in range(11):\n",
        "    s.append(i)\n",
        "    b=sorted(s)\n",
        "  b.pop(0)\n",
        "  b.pop(0)\n",
        "  b=sorted(b,reverse=True)\n",
        "  b.pop(0)\n",
        "  b.pop(0)\n",
        "  print(s)\n",
        "  print(b)\n",
        "s=[]\n",
        "remove(s)"
      ]
    },
    {
      "cell_type": "code",
      "execution_count": null,
      "id": "26795cb5-8e3e-4264-8ed9-60f65603480e",
      "metadata": {
        "id": "26795cb5-8e3e-4264-8ed9-60f65603480e"
      },
      "outputs": [],
      "source": []
    },
    {
      "cell_type": "code",
      "execution_count": null,
      "id": "cc37554d-56bb-4db0-9cd7-a52737de2eb3",
      "metadata": {
        "id": "cc37554d-56bb-4db0-9cd7-a52737de2eb3"
      },
      "outputs": [],
      "source": [
        "class number():\n",
        "    def __init__(self,num1,num2):\n",
        "        self.num1=num1\n",
        "        self.num2=num2\n",
        "    def var1(self):\n",
        "        print(self.num1)\n",
        "        print(self.num2)\n",
        "\n",
        "class name():\n",
        "    def __init__(self,name1,name2):\n",
        "        self.name1=name1\n",
        "        self.name2=name2\n",
        "    def pname(self):\n",
        "        print(self.name1)\n",
        "        print(self.name2)\n",
        "    x=number(11,23)"
      ]
    },
    {
      "cell_type": "code",
      "execution_count": null,
      "id": "a6f90284-bd74-45c5-82a8-ff524eea5c59",
      "metadata": {
        "id": "a6f90284-bd74-45c5-82a8-ff524eea5c59"
      },
      "outputs": [],
      "source": [
        "x=number(10,20)"
      ]
    },
    {
      "cell_type": "code",
      "execution_count": null,
      "id": "5d3a52fa-3840-4767-bb5e-f034033c5e78",
      "metadata": {
        "id": "5d3a52fa-3840-4767-bb5e-f034033c5e78",
        "outputId": "b637728c-04d9-4a52-f619-3169f4e5c8ff"
      },
      "outputs": [
        {
          "name": "stdout",
          "output_type": "stream",
          "text": [
            "10\n",
            "20\n"
          ]
        }
      ],
      "source": [
        "x.var1()"
      ]
    },
    {
      "cell_type": "code",
      "execution_count": null,
      "id": "a2c6a327-aa0a-4259-8264-d72b1bc6d9a5",
      "metadata": {
        "id": "a2c6a327-aa0a-4259-8264-d72b1bc6d9a5"
      },
      "outputs": [],
      "source": [
        "y=name(\"rohit\",\"virat\")"
      ]
    },
    {
      "cell_type": "code",
      "execution_count": null,
      "id": "b166e07b-d1c3-4502-9251-d7780b3e3020",
      "metadata": {
        "id": "b166e07b-d1c3-4502-9251-d7780b3e3020",
        "outputId": "07fe9dc5-36dd-4127-9155-b8609bc1dacb"
      },
      "outputs": [
        {
          "name": "stdout",
          "output_type": "stream",
          "text": [
            "rohit\n",
            "virat\n"
          ]
        }
      ],
      "source": [
        "y.pname()"
      ]
    },
    {
      "cell_type": "code",
      "execution_count": null,
      "id": "ed37416f-9d7c-48c8-96b2-83b9d6484535",
      "metadata": {
        "id": "ed37416f-9d7c-48c8-96b2-83b9d6484535",
        "outputId": "43f77222-f2d9-4053-ce46-f6d57589802d"
      },
      "outputs": [
        {
          "ename": "AttributeError",
          "evalue": "'name' object has no attribute 'number'",
          "output_type": "error",
          "traceback": [
            "\u001b[1;31m---------------------------------------------------------------------------\u001b[0m",
            "\u001b[1;31mAttributeError\u001b[0m                            Traceback (most recent call last)",
            "Cell \u001b[1;32mIn[25], line 1\u001b[0m\n\u001b[1;32m----> 1\u001b[0m y\u001b[38;5;241m.\u001b[39mnumber()\n",
            "\u001b[1;31mAttributeError\u001b[0m: 'name' object has no attribute 'number'"
          ]
        }
      ],
      "source": [
        "y.number()"
      ]
    },
    {
      "cell_type": "code",
      "execution_count": null,
      "id": "4515ab14-70dd-4f99-bf9e-d879fd260776",
      "metadata": {
        "id": "4515ab14-70dd-4f99-bf9e-d879fd260776"
      },
      "outputs": [],
      "source": [
        "class num():\n"
      ]
    },
    {
      "cell_type": "raw",
      "id": "272e53dc-e6f1-4916-8524-262b17e45862",
      "metadata": {
        "id": "272e53dc-e6f1-4916-8524-262b17e45862"
      },
      "source": []
    },
    {
      "cell_type": "code",
      "execution_count": null,
      "id": "150898d7-e83f-4858-9122-74c855ab4cfc",
      "metadata": {
        "id": "150898d7-e83f-4858-9122-74c855ab4cfc"
      },
      "outputs": [],
      "source": [
        "class existing():\n",
        "    def __init__(self,num1,num2):\n",
        "        self.num1=num1\n",
        "        self.num2=num2\n",
        "    def prod(self):\n",
        "        mul=self.num1*self.num2\n",
        "        print(\"product of two number is:\",mul)\n",
        "\n",
        "class newclass(existing):\n",
        "    def div(self):\n",
        "        ans=self.num1/self.num2\n",
        "        print(\"quotent is:\",ans)\n",
        ""
      ]
    },
    {
      "cell_type": "code",
      "execution_count": null,
      "id": "20dc6218-e888-4ed2-b19d-9056ae76c2f6",
      "metadata": {
        "id": "20dc6218-e888-4ed2-b19d-9056ae76c2f6"
      },
      "outputs": [],
      "source": [
        "p1=existing(10,20)\n"
      ]
    },
    {
      "cell_type": "code",
      "execution_count": null,
      "id": "5ba4160f-11f3-4440-a7d8-3e3f5f901bbd",
      "metadata": {
        "id": "5ba4160f-11f3-4440-a7d8-3e3f5f901bbd",
        "outputId": "2560767d-b134-4f9f-fc1f-b6fa3fafcb00"
      },
      "outputs": [
        {
          "name": "stdout",
          "output_type": "stream",
          "text": [
            "product of two number is: 200\n"
          ]
        }
      ],
      "source": [
        "p1.prod()"
      ]
    },
    {
      "cell_type": "code",
      "execution_count": null,
      "id": "b92875ec-d030-4660-a073-400317ae3530",
      "metadata": {
        "id": "b92875ec-d030-4660-a073-400317ae3530"
      },
      "outputs": [],
      "source": [
        "p2=newclass(45,7)"
      ]
    },
    {
      "cell_type": "markdown",
      "id": "658eb831-3190-480b-acea-4056324f08cb",
      "metadata": {
        "id": "658eb831-3190-480b-acea-4056324f08cb"
      },
      "source": [
        "create a class called length using object radious, base, height\n",
        "create a method called measurement to print value of the objects\n",
        "using single inheritance create  a new class called area\n",
        "in the new class create method to compute\n"
      ]
    },
    {
      "cell_type": "code",
      "execution_count": null,
      "id": "d3e7864a-decf-4582-b977-1de31d8e8ccd",
      "metadata": {
        "id": "d3e7864a-decf-4582-b977-1de31d8e8ccd"
      },
      "outputs": [],
      "source": [
        "import math\n",
        "class length():\n",
        "    def __init__(self, r, b,h):\n",
        "        self.r=r\n",
        "        self.b=b\n",
        "        self.h=h\n",
        "    def measurment(self):\n",
        "        print(self.r)\n",
        "        print(self.b)\n",
        "        print(self.h)\n",
        "\n",
        "class area(length):\n",
        "    def areaofcircle(self):\n",
        "        ac= math.pi*(self.r**2)\n",
        "        print(\"area of the circle:\",ac)\n",
        "    def triangle(self):\n",
        "        tr= (1/2)*self.b*self.h\n",
        "        print(\"area of the triangle:\",tr)\n",
        "    def surafceareaofcylinder(self):\n",
        "        sc= (2*math.pi*self.r**2)+(2*self.r*self*h)\n",
        "        print(\"area of the circle:\",sc)"
      ]
    },
    {
      "cell_type": "code",
      "execution_count": null,
      "id": "b1da3bee-d625-4dfc-bb41-d9a2b5e42c0a",
      "metadata": {
        "id": "b1da3bee-d625-4dfc-bb41-d9a2b5e42c0a"
      },
      "outputs": [],
      "source": [
        "p1=length(4,5,6)"
      ]
    },
    {
      "cell_type": "code",
      "execution_count": null,
      "id": "5ce961f9-c5bb-4f6e-a878-2a87ff2cf7cd",
      "metadata": {
        "id": "5ce961f9-c5bb-4f6e-a878-2a87ff2cf7cd"
      },
      "outputs": [],
      "source": [
        "p2=area(4,5,6)"
      ]
    },
    {
      "cell_type": "code",
      "execution_count": null,
      "id": "86199e1e-4163-4f81-890e-85a0d734fb32",
      "metadata": {
        "id": "86199e1e-4163-4f81-890e-85a0d734fb32",
        "outputId": "6dea2ea9-214b-496b-ff12-ca112ecc8d79"
      },
      "outputs": [
        {
          "name": "stdout",
          "output_type": "stream",
          "text": [
            "area of the circle: 50.26548245743669\n"
          ]
        }
      ],
      "source": [
        "p2.areaofcircle()"
      ]
    },
    {
      "cell_type": "code",
      "execution_count": null,
      "id": "005e75da-1b33-4836-a932-337e602f9f3e",
      "metadata": {
        "id": "005e75da-1b33-4836-a932-337e602f9f3e",
        "outputId": "79239af7-2dfe-41cd-87ef-5bb8b9c1da50"
      },
      "outputs": [
        {
          "name": "stdout",
          "output_type": "stream",
          "text": [
            "area of the triangle: 15.0\n"
          ]
        }
      ],
      "source": [
        "p2.triangle()"
      ]
    },
    {
      "cell_type": "code",
      "execution_count": null,
      "id": "6c2f52ce-2590-4960-bf52-89bf86ab9e22",
      "metadata": {
        "id": "6c2f52ce-2590-4960-bf52-89bf86ab9e22"
      },
      "outputs": [],
      "source": [
        "class employee():\n",
        "    def __init__(self, name, salary, ser):\n",
        "        self.name=name\n",
        "        self.salary=salary\n",
        "        self.ser=ser\n",
        "\n",
        "class hike(employee):\n",
        "    def newsalary(self):\n",
        "        if self.salary<50:\n",
        "            if ser<5:\n",
        "                hike=(self.salary*0.10)\n",
        "                print(\"Hike :\",hike)\n",
        "            elif self.ser >=5:\n",
        "                hike=(self.salary*0.20)\n",
        "                print(\"Hike :\",hike)\n",
        "        elif self.salary >=50:\n",
        "                if self.ser<3:\n",
        "                    hike=(self.salary*0.15)\n",
        "                    print(\"Hike :\",hike)\n",
        "                elif self.ser>=3 and self.ser <5:\n",
        "                    hike=(self.salary*0.25)\n",
        "                    print(\"Hike :\",hike)\n",
        "                elif self.ser >=5:\n",
        "                    hike=(self.salary*0.40)\n",
        "                    print(\"Hike :\",hike)"
      ]
    },
    {
      "cell_type": "code",
      "execution_count": null,
      "id": "c99331ef-9aff-41a3-ad66-07c13fac93a1",
      "metadata": {
        "id": "c99331ef-9aff-41a3-ad66-07c13fac93a1"
      },
      "outputs": [],
      "source": [
        "p1=hike(\"suraj\",60000,6)"
      ]
    },
    {
      "cell_type": "code",
      "execution_count": null,
      "id": "4c3308bf-805b-4cf3-ae8f-aa6587afc332",
      "metadata": {
        "id": "4c3308bf-805b-4cf3-ae8f-aa6587afc332",
        "outputId": "522d618c-aaab-438b-beac-0a18de61151b"
      },
      "outputs": [
        {
          "name": "stdout",
          "output_type": "stream",
          "text": [
            "Hike : 24000.0\n"
          ]
        }
      ],
      "source": [
        "p1.newsalary()"
      ]
    },
    {
      "cell_type": "code",
      "execution_count": null,
      "id": "d4413791-d9b1-4c8d-a6c4-74ab0335e89a",
      "metadata": {
        "id": "d4413791-d9b1-4c8d-a6c4-74ab0335e89a"
      },
      "outputs": [],
      "source": [
        "def arm(num):\n",
        "    digit=str(num)\n",
        "    n=len(digit)\n",
        "    b=sum(int(digit)**n for digit in digit)\n",
        "    print(b)\n",
        "    return b==num"
      ]
    },
    {
      "cell_type": "code",
      "execution_count": null,
      "id": "4303db51-49e7-4974-a97a-e65780f3b08d",
      "metadata": {
        "id": "4303db51-49e7-4974-a97a-e65780f3b08d",
        "outputId": "6994ea4c-980b-46aa-d86c-255de8bdec1b"
      },
      "outputs": [
        {
          "name": "stdout",
          "output_type": "stream",
          "text": [
            "118\n"
          ]
        },
        {
          "data": {
            "text/plain": [
              "False"
            ]
          },
          "execution_count": 13,
          "metadata": {},
          "output_type": "execute_result"
        }
      ],
      "source": [
        "arm(343)"
      ]
    },
    {
      "cell_type": "code",
      "execution_count": null,
      "id": "e2cd8275-a6ed-4223-a506-c555f4782e01",
      "metadata": {
        "id": "e2cd8275-a6ed-4223-a506-c555f4782e01",
        "outputId": "492e45f4-f68f-4c3c-abb9-1559d5f17a0f"
      },
      "outputs": [
        {
          "name": "stdout",
          "output_type": "stream",
          "text": [
            "[3, 4, 3]\n",
            "118\n"
          ]
        }
      ],
      "source": [
        "num=343\n",
        "digit=list(map(int,str(num)))\n",
        "print(digit)\n",
        "n=len(digit)\n",
        "b= sum(int(digit)**n for digit in digit)\n",
        "print(b)"
      ]
    },
    {
      "cell_type": "code",
      "execution_count": null,
      "id": "c6657b75-2ea4-47ce-a2bf-5cf268bfb7cd",
      "metadata": {
        "id": "c6657b75-2ea4-47ce-a2bf-5cf268bfb7cd"
      },
      "outputs": [],
      "source": [
        "def armstrong(n):\n",
        "  # n = '9474'\n",
        "  n = str(n)\n",
        "  p = len(n)\n",
        "  arm =[]\n",
        "  for i in n:\n",
        "    arm.append(int(i)**p)\n",
        "    print(arm, f'value of i & n:{i},{n}', )\n",
        "  #print(arm,sum(arm))\n",
        "  if int(n) == sum(arm):\n",
        "    return f'the entered number {n} is a Armstrong number.'\n",
        "  else:\n",
        "    return f'the entered number {n} is not a Armstrong number.'"
      ]
    },
    {
      "cell_type": "code",
      "execution_count": null,
      "id": "965f0329-4fe8-482c-8655-0905a8636c2a",
      "metadata": {
        "id": "965f0329-4fe8-482c-8655-0905a8636c2a",
        "outputId": "3c6f3a37-2df1-4403-9a6d-d1e6eb68e326"
      },
      "outputs": [
        {
          "name": "stdout",
          "output_type": "stream",
          "text": [
            "[1] value of i & n:1,153\n",
            "[1, 125] value of i & n:5,153\n",
            "[1, 125, 27] value of i & n:3,153\n"
          ]
        },
        {
          "data": {
            "text/plain": [
              "'the entered number 153 is a Armstrong number.'"
            ]
          },
          "execution_count": 17,
          "metadata": {},
          "output_type": "execute_result"
        }
      ],
      "source": [
        "armstrong(153)"
      ]
    },
    {
      "cell_type": "code",
      "execution_count": null,
      "id": "40c15f49-2e24-4d0d-9495-92eb93320fa2",
      "metadata": {
        "id": "40c15f49-2e24-4d0d-9495-92eb93320fa2",
        "outputId": "3f0ba229-4980-4124-aef5-7840a0cfe19a"
      },
      "outputs": [
        {
          "name": "stdout",
          "output_type": "stream",
          "text": [
            "i & n3345\n",
            "i & n4345\n",
            "i & n5345\n"
          ]
        }
      ],
      "source": [
        "n='345'\n",
        "for i in n:\n",
        "    print(\"i & n{}{}\".format(i,n))"
      ]
    },
    {
      "cell_type": "code",
      "execution_count": null,
      "id": "5917dc25-0636-4e7f-a967-10f063eb1f55",
      "metadata": {
        "id": "5917dc25-0636-4e7f-a967-10f063eb1f55"
      },
      "outputs": [],
      "source": [
        "class radious():\n",
        "    def __init__(self,rad):\n",
        "        self.rad=rad\n",
        "    def radi(self):\n",
        "        print(\"radious value is\",self.rad)\n",
        "class base():\n",
        "    def __init__(self,ba):\n",
        "        self.ba=ba\n",
        "    def bas(self):\n",
        "        print(\"base of triangle is\",self.ba)\n",
        "class height():\n",
        "    def __init__(self,he):\n",
        "        self.he=he\n",
        "    def hei(self):\n",
        "        print(\"height of triangle is\",self.he)"
      ]
    },
    {
      "cell_type": "code",
      "execution_count": null,
      "id": "fb16e307-ac29-4cda-bfe8-11a370dfda86",
      "metadata": {
        "id": "fb16e307-ac29-4cda-bfe8-11a370dfda86",
        "outputId": "70e6c625-1ee6-4bf4-ef44-bbc4bb2986cb"
      },
      "outputs": [
        {
          "name": "stdout",
          "output_type": "stream",
          "text": [
            "radious value is 10\n"
          ]
        }
      ],
      "source": [
        "r1=radious(10)\n",
        "r1.radi()"
      ]
    },
    {
      "cell_type": "code",
      "execution_count": null,
      "id": "891dd74a-f706-4bb5-9910-834f33c823e7",
      "metadata": {
        "id": "891dd74a-f706-4bb5-9910-834f33c823e7",
        "outputId": "884b50df-e9d0-4924-c681-41331ffaae76"
      },
      "outputs": [
        {
          "name": "stdout",
          "output_type": "stream",
          "text": [
            "height of triangle is 20\n"
          ]
        }
      ],
      "source": [
        "h1=height(20)\n",
        "h1.hei()"
      ]
    },
    {
      "cell_type": "code",
      "execution_count": null,
      "id": "f880de02-80ea-458e-838f-26b4ac692e64",
      "metadata": {
        "id": "f880de02-80ea-458e-838f-26b4ac692e64",
        "outputId": "cd6c0a14-a874-4984-c639-3aa33e4b893f"
      },
      "outputs": [
        {
          "name": "stdout",
          "output_type": "stream",
          "text": [
            "base of triangle is 30\n"
          ]
        }
      ],
      "source": [
        "h2=base(30)\n",
        "h2.bas()"
      ]
    },
    {
      "cell_type": "code",
      "execution_count": null,
      "id": "0b2fda66-0fac-41d3-836d-7b1fd4608a93",
      "metadata": {
        "id": "0b2fda66-0fac-41d3-836d-7b1fd4608a93"
      },
      "outputs": [],
      "source": [
        "import math\n",
        "class measures(radious,base,height):\n",
        "    def new(self):\n",
        "        print(self.rad,self.ba,self.he)\n",
        "    def areaofcircle(self):\n",
        "        are=math.pi*(self.rad**2)\n",
        "        print(self.rad,self.ba,self.he)\n",
        "        print(are)\n",
        "    def circum(self):\n",
        "        c=2*math.pi*self.rad\n",
        "        print(\"perimeter of a circle is\",c)\n",
        "    def at(self):\n",
        "        tt=(1/2)*self.ba*self.he\n",
        "        print(\"area of the triangle is\",tt)"
      ]
    },
    {
      "cell_type": "code",
      "execution_count": null,
      "id": "6b18ab0d-8868-46fd-af14-b86047fb9cd3",
      "metadata": {
        "id": "6b18ab0d-8868-46fd-af14-b86047fb9cd3",
        "outputId": "42b65a7e-6734-4adc-c0be-70b085e404b1"
      },
      "outputs": [
        {
          "ename": "AttributeError",
          "evalue": "'measures' object has no attribute 'ba'",
          "output_type": "error",
          "traceback": [
            "\u001b[1;31m---------------------------------------------------------------------------\u001b[0m",
            "\u001b[1;31mAttributeError\u001b[0m                            Traceback (most recent call last)",
            "Cell \u001b[1;32mIn[257], line 5\u001b[0m\n\u001b[0;32m      3\u001b[0m h4\u001b[38;5;241m=\u001b[39mradious(\u001b[38;5;241m30\u001b[39m)\n\u001b[0;32m      4\u001b[0m c1\u001b[38;5;241m=\u001b[39mmeasures(\u001b[38;5;241m5\u001b[39m)\n\u001b[1;32m----> 5\u001b[0m c1\u001b[38;5;241m.\u001b[39mareaofcircle()\n\u001b[0;32m      6\u001b[0m c1\u001b[38;5;241m.\u001b[39mcircum()\n\u001b[0;32m      7\u001b[0m c2\u001b[38;5;241m=\u001b[39mmeasures(\u001b[38;5;241m5\u001b[39m,\u001b[38;5;241m6\u001b[39m,\u001b[38;5;241m8\u001b[39m)\n",
            "Cell \u001b[1;32mIn[255], line 7\u001b[0m, in \u001b[0;36mmeasures.areaofcircle\u001b[1;34m(self)\u001b[0m\n\u001b[0;32m      5\u001b[0m \u001b[38;5;28;01mdef\u001b[39;00m \u001b[38;5;21mareaofcircle\u001b[39m(\u001b[38;5;28mself\u001b[39m):\n\u001b[0;32m      6\u001b[0m     are\u001b[38;5;241m=\u001b[39mmath\u001b[38;5;241m.\u001b[39mpi\u001b[38;5;241m*\u001b[39m(\u001b[38;5;28mself\u001b[39m\u001b[38;5;241m.\u001b[39mrad\u001b[38;5;241m*\u001b[39m\u001b[38;5;241m*\u001b[39m\u001b[38;5;241m2\u001b[39m)\n\u001b[1;32m----> 7\u001b[0m     \u001b[38;5;28mprint\u001b[39m(\u001b[38;5;28mself\u001b[39m\u001b[38;5;241m.\u001b[39mrad,\u001b[38;5;28mself\u001b[39m\u001b[38;5;241m.\u001b[39mba,\u001b[38;5;28mself\u001b[39m\u001b[38;5;241m.\u001b[39mhe)\n\u001b[0;32m      8\u001b[0m     \u001b[38;5;28mprint\u001b[39m(are)\n",
            "\u001b[1;31mAttributeError\u001b[0m: 'measures' object has no attribute 'ba'"
          ]
        }
      ],
      "source": [
        "h2=height(10)\n",
        "h3=base(20)\n",
        "h4=radious(30)\n",
        "c1=measures(5)\n",
        "c1.areaofcircle()\n",
        "c1.circum()\n",
        "c2=measures(5,6,8)\n",
        "c2.new()\n",
        "c2.at()"
      ]
    },
    {
      "cell_type": "code",
      "execution_count": null,
      "id": "70a3598b-0329-42f3-99f8-ca3b06d1565a",
      "metadata": {
        "id": "70a3598b-0329-42f3-99f8-ca3b06d1565a"
      },
      "outputs": [],
      "source": [
        "from math import pi\n",
        "class measures():\n",
        "    def __init__(self, r, b, h):\n",
        "        self.r=r\n",
        "        self.b=b\n",
        "        self.h=h\n",
        "    def ch(self):\n",
        "        print(self.r,self.b,self.h)\n",
        "class new1(measures):\n",
        "    def __init__(self,volume):\n",
        "        self.volume=volume\n",
        "    def vol(self):\n",
        "        print(\"measere of the volume\")\n",
        "class new2(new1):\n",
        "    def sur(self):\n",
        "        print(\"measure of surface\")"
      ]
    },
    {
      "cell_type": "code",
      "execution_count": null,
      "id": "e0965098-21ce-4bda-bb50-24ed7cd05ed6",
      "metadata": {
        "id": "e0965098-21ce-4bda-bb50-24ed7cd05ed6"
      },
      "outputs": [],
      "source": [
        "from math import sqrt\n",
        "class rang():\n",
        "    def __init__(self,starting,ending):\n",
        "        self.starting=starting\n",
        "        self.ending=ending\n",
        "\n",
        "\n",
        "class new1(rang):\n",
        "    def squa(self):\n",
        "        for i in range(self.starting,self.ending):\n",
        "            print(i**2)\n",
        "\n",
        "\n",
        "class new2(rang):\n",
        "    def sqr(self):\n",
        "        for i in range(self.starting,self.ending):\n",
        "            print(sqrt(i))"
      ]
    },
    {
      "cell_type": "code",
      "execution_count": null,
      "id": "f0dcdb91-1a32-4cad-aeb7-169fe038c911",
      "metadata": {
        "id": "f0dcdb91-1a32-4cad-aeb7-169fe038c911",
        "outputId": "01a8e957-a0bc-4219-c290-ce7abf2e8e73"
      },
      "outputs": [
        {
          "name": "stdout",
          "output_type": "stream",
          "text": [
            "1\n",
            "4\n",
            "9\n",
            "16\n",
            "25\n",
            "36\n",
            "49\n",
            "64\n",
            "81\n",
            "1.0\n",
            "1.4142135623730951\n",
            "1.7320508075688772\n",
            "2.0\n",
            "2.23606797749979\n",
            "2.449489742783178\n",
            "2.6457513110645907\n",
            "2.8284271247461903\n",
            "3.0\n"
          ]
        }
      ],
      "source": [
        "c1=new1(1,10)\n",
        "c1.squa()\n",
        "c2=new2(1,10)\n",
        "c2.sqr()"
      ]
    },
    {
      "cell_type": "code",
      "execution_count": null,
      "id": "2456e0ce-0d52-45b4-974a-5fe847d9bc5b",
      "metadata": {
        "id": "2456e0ce-0d52-45b4-974a-5fe847d9bc5b"
      },
      "outputs": [],
      "source": [
        "import math\n",
        "class radious():\n",
        "    def __init__(self,r):\n",
        "        self.r=r\n",
        "    def rad(self):\n",
        "        print(\"radious value is\",self.r)\n",
        "class base():\n",
        "    def __init__(self,b):\n",
        "        self.b=b\n",
        "    def bas(self):\n",
        "        print(\"base of triangle is\",self.b)\n",
        "class height():\n",
        "    def __init__(self,h):\n",
        "        self.h=h\n",
        "    def hei(self):\n",
        "        print(\"height of triangle is\",self.h)\n",
        "\n",
        "class measures(radious,base,height):\n",
        "    def __init__(self,r,b,h):\n",
        "        radious.__init__(self,r)\n",
        "        base.__init__(self,b)\n",
        "        height.__init__(self,h)\n",
        "    def new(self):\n",
        "        print(self.r,self.b,self.h)\n",
        "    def areaofcircle(self):\n",
        "        are=math.pi*(self.r**2)\n",
        "        print(self.r,self.b,self.h)\n",
        "        print(are)\n",
        "    def circum(self):\n",
        "        c=2*math.pi*self.r\n",
        "        print(\"perimeter of a circle is\",c)\n",
        "    def at(self):\n",
        "        tt=(1/2)*self.b*self.h\n",
        "        print(\"area of the triangle is\",tt)"
      ]
    },
    {
      "cell_type": "code",
      "execution_count": null,
      "id": "88fb53a0-31fa-479b-bbe8-f209f21d609d",
      "metadata": {
        "id": "88fb53a0-31fa-479b-bbe8-f209f21d609d",
        "outputId": "012cda32-c1ce-4cc8-8282-ba39b8d0a074"
      },
      "outputs": [
        {
          "name": "stdout",
          "output_type": "stream",
          "text": [
            "5 6 7\n",
            "5 6 7\n",
            "78.53981633974483\n",
            "perimeter of a circle is 31.41592653589793\n",
            "area of the triangle is 21.0\n"
          ]
        }
      ],
      "source": [
        "v1=measures(5,6,7)\n",
        "v1.new()\n",
        "v1.areaofcircle()\n",
        "v1.circum()\n",
        "v1.at()"
      ]
    },
    {
      "cell_type": "code",
      "execution_count": null,
      "id": "9de982fd-33ad-416a-b5f8-e0374c6377fc",
      "metadata": {
        "id": "9de982fd-33ad-416a-b5f8-e0374c6377fc"
      },
      "outputs": [],
      "source": [
        "class a1():\n",
        "    def __init__(self,a):\n",
        "        self.a=a\n",
        "    def n1(self):\n",
        "        print(\"this is from class a\")\n",
        "class b1(a1):\n",
        "    def __init__(self,b,a):\n",
        "        self.b=b\n",
        "        a1.__init__(self,a)\n",
        "    def n2(self):\n",
        "        print(\"this is from new class b\", self.a,self.b)\n",
        "class c(b1):\n",
        "    def __init__(self,c,b,a):\n",
        "        self.c=c\n",
        "        b1.__init__(self,b,a)\n",
        "    def n3(self):\n",
        "        print(\"this is class from c\", self.c, self.b, self.a)"
      ]
    },
    {
      "cell_type": "code",
      "execution_count": null,
      "id": "dee02622-0843-4cc0-abd9-f1c12522d745",
      "metadata": {
        "id": "dee02622-0843-4cc0-abd9-f1c12522d745",
        "outputId": "5eb19984-dd0d-41ba-9add-c7d7d21827dd"
      },
      "outputs": [
        {
          "name": "stdout",
          "output_type": "stream",
          "text": [
            "this is class from c 10 2 4\n"
          ]
        }
      ],
      "source": [
        "pp=c(10,2,4)\n",
        "pp.n3()"
      ]
    },
    {
      "cell_type": "code",
      "execution_count": null,
      "id": "e8775eb1-834c-46d0-93e6-b70e732f5ac8",
      "metadata": {
        "id": "e8775eb1-834c-46d0-93e6-b70e732f5ac8",
        "outputId": "b8a5599e-e521-4217-8ae3-64e958f6d328"
      },
      "outputs": [
        {
          "ename": "NameError",
          "evalue": "name 'self' is not defined",
          "output_type": "error",
          "traceback": [
            "\u001b[1;31m---------------------------------------------------------------------------\u001b[0m",
            "\u001b[1;31mNameError\u001b[0m                                 Traceback (most recent call last)",
            "Cell \u001b[1;32mIn[269], line 9\u001b[0m\n\u001b[0;32m      7\u001b[0m     \u001b[38;5;28;01mdef\u001b[39;00m \u001b[38;5;21mpp\u001b[39m(\u001b[38;5;28mself\u001b[39m):\n\u001b[0;32m      8\u001b[0m         \u001b[38;5;28mprint\u001b[39m(\u001b[38;5;124m\"\u001b[39m\u001b[38;5;124mprint the values\u001b[39m\u001b[38;5;124m\"\u001b[39m, \u001b[38;5;28mself\u001b[39m\u001b[38;5;241m.\u001b[39mr,\u001b[38;5;28mself\u001b[39m\u001b[38;5;241m.\u001b[39mh,\u001b[38;5;28mself\u001b[39m\u001b[38;5;241m.\u001b[39mb)\n\u001b[1;32m----> 9\u001b[0m \u001b[38;5;28;01mclass\u001b[39;00m \u001b[38;5;21;01mnew1\u001b[39;00m(meas):\n\u001b[0;32m     10\u001b[0m     meas\u001b[38;5;241m.\u001b[39m\u001b[38;5;21m__init__\u001b[39m(\u001b[38;5;28mself\u001b[39m,r1,b,h)\n\u001b[0;32m     11\u001b[0m     \u001b[38;5;28;01mdef\u001b[39;00m \u001b[38;5;21m__init__\u001b[39m(\u001b[38;5;28mself\u001b[39m):\n",
            "Cell \u001b[1;32mIn[269], line 10\u001b[0m, in \u001b[0;36mnew1\u001b[1;34m()\u001b[0m\n\u001b[0;32m      9\u001b[0m \u001b[38;5;28;01mclass\u001b[39;00m \u001b[38;5;21;01mnew1\u001b[39;00m(meas):\n\u001b[1;32m---> 10\u001b[0m     meas\u001b[38;5;241m.\u001b[39m\u001b[38;5;21m__init__\u001b[39m(\u001b[38;5;28mself\u001b[39m,r1,b,h)\n\u001b[0;32m     11\u001b[0m     \u001b[38;5;28;01mdef\u001b[39;00m \u001b[38;5;21m__init__\u001b[39m(\u001b[38;5;28mself\u001b[39m):\n\u001b[0;32m     12\u001b[0m         \u001b[38;5;28mself\u001b[39m\u001b[38;5;241m.\u001b[39mmeas(\u001b[38;5;28mself\u001b[39m,r1)\n",
            "\u001b[1;31mNameError\u001b[0m: name 'self' is not defined"
          ]
        }
      ],
      "source": [
        "from math import pi\n",
        "class meas():\n",
        "    def __init__(self,r,b,h):\n",
        "        self.r=r\n",
        "        self.b=b\n",
        "        self.h=h\n",
        "    def pp(self):\n",
        "        print(\"print the values\", self.r,self.h,self.b)\n",
        "class new1(meas):\n",
        "    meas.__init__(self,r1,b,h)\n",
        "    def __init__(self):\n",
        "        self.meas(self,r1)\n",
        "    def area(self):\n",
        "        area=pi*(self.r1**2)\n",
        "        print(area)\n",
        "class new2(meas):\n",
        "    def __init__(self,b,h):\n",
        "        meas.__init__(self,b,h)"
      ]
    },
    {
      "cell_type": "code",
      "execution_count": null,
      "id": "ea1794d6-a679-4322-833e-baf51a6186eb",
      "metadata": {
        "id": "ea1794d6-a679-4322-833e-baf51a6186eb",
        "outputId": "d1060307-c83c-484d-dba3-089f0bc38e1c"
      },
      "outputs": [
        {
          "ename": "AttributeError",
          "evalue": "'new1' object has no attribute 'meas'",
          "output_type": "error",
          "traceback": [
            "\u001b[1;31m---------------------------------------------------------------------------\u001b[0m",
            "\u001b[1;31mAttributeError\u001b[0m                            Traceback (most recent call last)",
            "Cell \u001b[1;32mIn[271], line 2\u001b[0m\n\u001b[0;32m      1\u001b[0m c\u001b[38;5;241m=\u001b[39mmeas(\u001b[38;5;241m10\u001b[39m,\u001b[38;5;241m20\u001b[39m,\u001b[38;5;241m30\u001b[39m)\n\u001b[1;32m----> 2\u001b[0m c11\u001b[38;5;241m=\u001b[39mnew1()\n\u001b[0;32m      3\u001b[0m c11\u001b[38;5;241m.\u001b[39marea()\n",
            "Cell \u001b[1;32mIn[263], line 11\u001b[0m, in \u001b[0;36mnew1.__init__\u001b[1;34m(self)\u001b[0m\n\u001b[0;32m     10\u001b[0m \u001b[38;5;28;01mdef\u001b[39;00m \u001b[38;5;21m__init__\u001b[39m(\u001b[38;5;28mself\u001b[39m):\n\u001b[1;32m---> 11\u001b[0m     \u001b[38;5;28mself\u001b[39m\u001b[38;5;241m.\u001b[39mmeas(\u001b[38;5;28mself\u001b[39m,r1)\n",
            "\u001b[1;31mAttributeError\u001b[0m: 'new1' object has no attribute 'meas'"
          ]
        }
      ],
      "source": [
        "c=meas(10,20,30)\n",
        "c11=new1()\n",
        "c11.area()"
      ]
    },
    {
      "cell_type": "code",
      "execution_count": null,
      "id": "158b41f7-f992-4ba7-b1da-fd4ac80de152",
      "metadata": {
        "id": "158b41f7-f992-4ba7-b1da-fd4ac80de152"
      },
      "outputs": [],
      "source": [
        "x=open(\"new.txt\",\"r\")"
      ]
    },
    {
      "cell_type": "code",
      "execution_count": null,
      "id": "8336fcc7-2564-4beb-b47e-a8fef38617b8",
      "metadata": {
        "id": "8336fcc7-2564-4beb-b47e-a8fef38617b8",
        "outputId": "44bb637f-d30c-4e5a-db75-017b143dc613"
      },
      "outputs": [
        {
          "data": {
            "text/plain": [
              "'this text file\\nsample test file\\nwith sample data\\n'"
            ]
          },
          "execution_count": 3,
          "metadata": {},
          "output_type": "execute_result"
        }
      ],
      "source": [
        "x.read()"
      ]
    },
    {
      "cell_type": "code",
      "execution_count": 1,
      "id": "53c4e19e-d892-4f70-90de-6bccd7c79ca3",
      "metadata": {
        "colab": {
          "base_uri": "https://localhost:8080/",
          "height": 176
        },
        "id": "53c4e19e-d892-4f70-90de-6bccd7c79ca3",
        "outputId": "f8ed1435-5c0b-4040-8b4e-d512881fa2e7"
      },
      "outputs": [
        {
          "output_type": "error",
          "ename": "ZeroDivisionError",
          "evalue": "division by zero",
          "traceback": [
            "\u001b[0;31m---------------------------------------------------------------------------\u001b[0m",
            "\u001b[0;31mZeroDivisionError\u001b[0m                         Traceback (most recent call last)",
            "\u001b[0;32m<ipython-input-1-d4486f7ec4bd>\u001b[0m in \u001b[0;36m<cell line: 4>\u001b[0;34m()\u001b[0m\n\u001b[1;32m      2\u001b[0m \u001b[0ma\u001b[0m\u001b[0;34m=\u001b[0m\u001b[0;36m10\u001b[0m\u001b[0;34m\u001b[0m\u001b[0;34m\u001b[0m\u001b[0m\n\u001b[1;32m      3\u001b[0m \u001b[0mb\u001b[0m\u001b[0;34m=\u001b[0m\u001b[0;36m0\u001b[0m\u001b[0;34m\u001b[0m\u001b[0;34m\u001b[0m\u001b[0m\n\u001b[0;32m----> 4\u001b[0;31m \u001b[0mprint\u001b[0m\u001b[0;34m(\u001b[0m\u001b[0ma\u001b[0m\u001b[0;34m/\u001b[0m\u001b[0mb\u001b[0m\u001b[0;34m)\u001b[0m\u001b[0;34m\u001b[0m\u001b[0;34m\u001b[0m\u001b[0m\n\u001b[0m",
            "\u001b[0;31mZeroDivisionError\u001b[0m: division by zero"
          ]
        }
      ],
      "source": [
        "#exceptions\n",
        "a=10\n",
        "b=0\n",
        "print(a/b)"
      ]
    },
    {
      "cell_type": "code",
      "source": [
        "#try-except statment\n",
        "a=10\n",
        "b=0\n",
        "try:\n",
        "  c=a/b\n",
        "  print(c)\n",
        "except ZeroDivisionError:\n",
        "  print(\"can't perform any action \")"
      ],
      "metadata": {
        "colab": {
          "base_uri": "https://localhost:8080/"
        },
        "id": "EC5sJ2VhXcX0",
        "outputId": "35afb369-b51c-4e23-ec0c-25c6decd212c"
      },
      "id": "EC5sJ2VhXcX0",
      "execution_count": 4,
      "outputs": [
        {
          "output_type": "stream",
          "name": "stdout",
          "text": [
            "can't perform any action \n"
          ]
        }
      ]
    },
    {
      "cell_type": "code",
      "source": [
        "b=5\n",
        "for a in range(5,16):\n",
        "  try:\n",
        "    c=a/b\n",
        "    print(c)\n",
        "  except Exception:\n",
        "      print(f\"unable to execute the action for {b}\")\n",
        "  b=b-1"
      ],
      "metadata": {
        "colab": {
          "base_uri": "https://localhost:8080/"
        },
        "id": "GASgJwDKYQWe",
        "outputId": "d0951d4c-60ab-492a-d1c4-2595c97fd588"
      },
      "id": "GASgJwDKYQWe",
      "execution_count": 8,
      "outputs": [
        {
          "output_type": "stream",
          "name": "stdout",
          "text": [
            "1.0\n",
            "1.5\n",
            "2.3333333333333335\n",
            "4.0\n",
            "9.0\n",
            "unable to execute the action for 0\n",
            "-11.0\n",
            "-6.0\n",
            "-4.333333333333333\n",
            "-3.5\n",
            "-3.0\n"
          ]
        }
      ]
    },
    {
      "cell_type": "code",
      "source": [
        "#wap to handle index error\n",
        "l1=[1,2,3,4,5]\n",
        "for i in range(len(l1)-2,9):\n",
        "  try:\n",
        "    print(l1[i],\": printing i value\")\n",
        "  except Exception:\n",
        "    print(\"out of range\")\n"
      ],
      "metadata": {
        "colab": {
          "base_uri": "https://localhost:8080/"
        },
        "id": "aEXTjN7FbORR",
        "outputId": "d74ccb5b-504c-4533-a676-0d45f8eb612a"
      },
      "id": "aEXTjN7FbORR",
      "execution_count": 17,
      "outputs": [
        {
          "output_type": "stream",
          "name": "stdout",
          "text": [
            "4 : printing i value\n",
            "5 : printing i value\n",
            "out of range\n",
            "out of range\n",
            "out of range\n",
            "out of range\n"
          ]
        }
      ]
    },
    {
      "cell_type": "code",
      "source": [
        "l1=[1,2,3,4,5]\n",
        "for i in range(len(l1)-2,9):\n",
        "  print(l1[i])"
      ],
      "metadata": {
        "colab": {
          "base_uri": "https://localhost:8080/",
          "height": 211
        },
        "id": "2tAPZLmDciVK",
        "outputId": "619b1a9d-5474-40a3-b80b-e12b9807b4ec"
      },
      "id": "2tAPZLmDciVK",
      "execution_count": 16,
      "outputs": [
        {
          "output_type": "stream",
          "name": "stdout",
          "text": [
            "4\n",
            "5\n"
          ]
        },
        {
          "output_type": "error",
          "ename": "IndexError",
          "evalue": "list index out of range",
          "traceback": [
            "\u001b[0;31m---------------------------------------------------------------------------\u001b[0m",
            "\u001b[0;31mIndexError\u001b[0m                                Traceback (most recent call last)",
            "\u001b[0;32m<ipython-input-16-bdfaa2825cc6>\u001b[0m in \u001b[0;36m<cell line: 2>\u001b[0;34m()\u001b[0m\n\u001b[1;32m      1\u001b[0m \u001b[0ml1\u001b[0m\u001b[0;34m=\u001b[0m\u001b[0;34m[\u001b[0m\u001b[0;36m1\u001b[0m\u001b[0;34m,\u001b[0m\u001b[0;36m2\u001b[0m\u001b[0;34m,\u001b[0m\u001b[0;36m3\u001b[0m\u001b[0;34m,\u001b[0m\u001b[0;36m4\u001b[0m\u001b[0;34m,\u001b[0m\u001b[0;36m5\u001b[0m\u001b[0;34m]\u001b[0m\u001b[0;34m\u001b[0m\u001b[0;34m\u001b[0m\u001b[0m\n\u001b[1;32m      2\u001b[0m \u001b[0;32mfor\u001b[0m \u001b[0mi\u001b[0m \u001b[0;32min\u001b[0m \u001b[0mrange\u001b[0m\u001b[0;34m(\u001b[0m\u001b[0mlen\u001b[0m\u001b[0;34m(\u001b[0m\u001b[0ml1\u001b[0m\u001b[0;34m)\u001b[0m\u001b[0;34m-\u001b[0m\u001b[0;36m2\u001b[0m\u001b[0;34m,\u001b[0m\u001b[0;36m9\u001b[0m\u001b[0;34m)\u001b[0m\u001b[0;34m:\u001b[0m\u001b[0;34m\u001b[0m\u001b[0;34m\u001b[0m\u001b[0m\n\u001b[0;32m----> 3\u001b[0;31m   \u001b[0mprint\u001b[0m\u001b[0;34m(\u001b[0m\u001b[0ml1\u001b[0m\u001b[0;34m[\u001b[0m\u001b[0mi\u001b[0m\u001b[0;34m]\u001b[0m\u001b[0;34m)\u001b[0m\u001b[0;34m\u001b[0m\u001b[0;34m\u001b[0m\u001b[0m\n\u001b[0m",
            "\u001b[0;31mIndexError\u001b[0m: list index out of range"
          ]
        }
      ]
    },
    {
      "cell_type": "code",
      "source": [
        "a=[10,9,8,7,6,5,4,3,2,1,99]\n",
        "b=[5,6,7,8,9,0,1,2,3]\n",
        "\n",
        "for i in range(len(a)):\n",
        "  try:\n",
        "    c=a[i]/b[i]\n",
        "    print(c)\n",
        "  except ZeroDivisionError:\n",
        "    print(\"this exception caused by 0\")\n",
        "  except IndexError:\n",
        "    print(\"This exception caused by index out of range\")"
      ],
      "metadata": {
        "colab": {
          "base_uri": "https://localhost:8080/"
        },
        "id": "5-GRuZQwdtaW",
        "outputId": "554ccc1c-cb70-4e84-ce60-397b605ad8f4"
      },
      "id": "5-GRuZQwdtaW",
      "execution_count": 18,
      "outputs": [
        {
          "output_type": "stream",
          "name": "stdout",
          "text": [
            "2.0\n",
            "1.5\n",
            "1.1428571428571428\n",
            "0.875\n",
            "0.6666666666666666\n",
            "this exception caused by 0\n",
            "4.0\n",
            "1.5\n",
            "0.6666666666666666\n",
            "This exception caused by index out of range\n",
            "This exception caused by index out of range\n"
          ]
        }
      ]
    }
  ],
  "metadata": {
    "kernelspec": {
      "display_name": "Python 3 (ipykernel)",
      "language": "python",
      "name": "python3"
    },
    "language_info": {
      "codemirror_mode": {
        "name": "ipython",
        "version": 3
      },
      "file_extension": ".py",
      "mimetype": "text/x-python",
      "name": "python",
      "nbconvert_exporter": "python",
      "pygments_lexer": "ipython3",
      "version": "3.12.4"
    },
    "colab": {
      "provenance": [],
      "include_colab_link": true
    }
  },
  "nbformat": 4,
  "nbformat_minor": 5
}